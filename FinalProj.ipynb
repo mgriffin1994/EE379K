{
 "cells": [
  {
   "cell_type": "code",
   "execution_count": 2,
   "metadata": {},
   "outputs": [
    {
     "name": "stdout",
     "output_type": "stream",
     "text": [
      "C:\\Users\\kaisheng\\Anaconda3\n"
     ]
    }
   ],
   "source": [
    "import os\n",
    "import sys\n",
    "import timeit\n",
    "import numpy as np\n",
    "from pydub import AudioSegment\n",
    "from sklearn.metrics import accuracy_score\n",
    "import matplotlib.pyplot as plt\n",
    "from matplotlib import pylab\n",
    "import datetime\n",
    "%matplotlib inline\n",
    "print (sys.prefix)"
   ]
  },
  {
   "cell_type": "code",
   "execution_count": 3,
   "metadata": {
    "collapsed": true
   },
   "outputs": [],
   "source": [
    "GENRE_DIR = \"E:/EE379K/genres\"\n",
    "GENRE_LIST = (\"blues\", \"classical\", \"country\", \"disco\", \"hiphop\", \"jazz\", \"metal\", \"pop\", \"reggae\", \"rock\")"
   ]
  },
  {
   "cell_type": "code",
   "execution_count": 5,
   "metadata": {
    "scrolled": false
   },
   "outputs": [
    {
     "name": "stdout",
     "output_type": "stream",
     "text": [
      "Converting au to wav E:/EE379K/genres\n",
      "Converting au to wav E:/EE379K/genres\\blues\n",
      "Converting au to wav E:/EE379K/genres\\classical\n",
      "Converting au to wav E:/EE379K/genres\\country\n",
      "Converting au to wav E:/EE379K/genres\\disco\n",
      "Converting au to wav E:/EE379K/genres\\hiphop\n",
      "Converting au to wav E:/EE379K/genres\\jazz\n",
      "Converting au to wav E:/EE379K/genres\\metal\n",
      "Converting au to wav E:/EE379K/genres\\pop\n",
      "Converting au to wav E:/EE379K/genres\\reggae\n",
      "Converting au to wav E:/EE379K/genres\\rock\n",
      "Conversion time =  0.011040143600289291\n"
     ]
    }
   ],
   "source": [
    "def convert_dataset_to_wav():\n",
    "    \"\"\"\n",
    "        Converts all files of the GTZAN dataset\n",
    "        to the WAV (uncompressed) format.\n",
    "    \"\"\"\n",
    "    start = timeit.default_timer()\n",
    "    for subdir, dirs, files in os.walk(GENRE_DIR):\n",
    "        print(\"Converting au to wav \" + subdir)\n",
    "        for file in files:\n",
    "            \n",
    "            path = subdir+'/'+file\n",
    "            if path.endswith(\"au\"):\n",
    "                song = AudioSegment.from_file(path,\"au\")\n",
    "                song = song[:30000]\n",
    "                song.export(path[:-3]+\".wav\",format='wav')\n",
    "\n",
    "    stop = timeit.default_timer()\n",
    "    print (\"Conversion time = \", (stop - start))\n",
    "    \n",
    "convert_dataset_to_wav()"
   ]
  },
  {
   "cell_type": "code",
   "execution_count": 6,
   "metadata": {
    "collapsed": true
   },
   "outputs": [],
   "source": [
    "#for subdir, dirs, files in os.walk(GENRE_DIR):\n",
    "#        for file in files:\n",
    "#            path = subdir+'/'+file\n",
    "#            if not path.endswith(\"wav\"):\n",
    "#                os.remove(path)"
   ]
  },
  {
   "cell_type": "code",
   "execution_count": 4,
   "metadata": {},
   "outputs": [
    {
     "ename": "NameError",
     "evalue": "name 'scipy' is not defined",
     "output_type": "error",
     "traceback": [
      "\u001b[1;31m---------------------------------------------------------------------------\u001b[0m",
      "\u001b[1;31mNameError\u001b[0m                                 Traceback (most recent call last)",
      "\u001b[1;32m<ipython-input-4-75cf5eef9a39>\u001b[0m in \u001b[0;36m<module>\u001b[1;34m()\u001b[0m\n\u001b[0;32m      3\u001b[0m \u001b[0mgenre\u001b[0m \u001b[1;33m=\u001b[0m \u001b[1;34m'pop'\u001b[0m\u001b[1;33m\u001b[0m\u001b[0m\n\u001b[0;32m      4\u001b[0m \u001b[1;33m\u001b[0m\u001b[0m\n\u001b[1;32m----> 5\u001b[1;33m \u001b[0msr\u001b[0m\u001b[1;33m,\u001b[0m \u001b[0my\u001b[0m \u001b[1;33m=\u001b[0m \u001b[0mscipy\u001b[0m\u001b[1;33m.\u001b[0m\u001b[0mio\u001b[0m\u001b[1;33m.\u001b[0m\u001b[0mwavfile\u001b[0m\u001b[1;33m.\u001b[0m\u001b[0mread\u001b[0m\u001b[1;33m(\u001b[0m\u001b[0mGENRE_DIR\u001b[0m \u001b[1;33m+\u001b[0m \u001b[1;34m'/'\u001b[0m\u001b[1;33m+\u001b[0m \u001b[0mgenre\u001b[0m \u001b[1;33m+\u001b[0m \u001b[1;34m'/'\u001b[0m \u001b[1;33m+\u001b[0m \u001b[0mgenre\u001b[0m \u001b[1;33m+\u001b[0m \u001b[1;34m'.00000.wav'\u001b[0m\u001b[1;33m)\u001b[0m\u001b[1;33m\u001b[0m\u001b[0m\n\u001b[0m\u001b[0;32m      6\u001b[0m \u001b[0mmel\u001b[0m \u001b[1;33m=\u001b[0m \u001b[0mlibrosa\u001b[0m\u001b[1;33m.\u001b[0m\u001b[0mfeature\u001b[0m\u001b[1;33m.\u001b[0m\u001b[0mmelspectrogram\u001b[0m\u001b[1;33m(\u001b[0m\u001b[0my\u001b[0m\u001b[1;33m=\u001b[0m\u001b[0my\u001b[0m\u001b[1;33m,\u001b[0m \u001b[0msr\u001b[0m\u001b[1;33m=\u001b[0m\u001b[0msr\u001b[0m\u001b[1;33m,\u001b[0m \u001b[0mn_mels\u001b[0m\u001b[1;33m=\u001b[0m\u001b[1;36m64\u001b[0m\u001b[1;33m)\u001b[0m\u001b[1;33m\u001b[0m\u001b[0m\n\u001b[0;32m      7\u001b[0m \u001b[0mprint\u001b[0m\u001b[1;33m(\u001b[0m\u001b[0mmel\u001b[0m\u001b[1;33m.\u001b[0m\u001b[0mshape\u001b[0m\u001b[1;33m)\u001b[0m\u001b[1;33m\u001b[0m\u001b[0m\n",
      "\u001b[1;31mNameError\u001b[0m: name 'scipy' is not defined"
     ]
    }
   ],
   "source": [
    "from librosa import display\n",
    "hop_length = 512\n",
    "genre = 'pop'\n",
    "\n",
    "sr, y = scipy.io.wavfile.read(GENRE_DIR + '/'+ genre + '/' + genre + '.00000.wav')\n",
    "mel = librosa.feature.melspectrogram(y=y, sr=sr, n_mels=64)\n",
    "print(mel.shape)\n",
    "plt.title('Mel')\n",
    "librosa.display.specshow(librosa.power_to_db(mel,ref=np.max), y_axis='mel', x_axis='time')\n",
    "plt.colorbar(format='%+2.0f dB')\n",
    "plt.show()\n",
    "\n",
    "mfcc = librosa.feature.mfcc(y=y, sr=sr, hop_length=hop_length, n_mfcc=13)\n",
    "print(mfcc.shape)\n",
    "plt.title('MFCC')\n",
    "librosa.display.specshow(mfcc, x_axis='time')\n",
    "plt.colorbar()\n",
    "plt.show()\n",
    "\n",
    "#spectral_center = librosa.feature.spectral_centroid(y=y, sr=sr, hop_length=hop_length)\n",
    "#print(spectral_center.shape)\n",
    "#plt.title('Spectral Centroid')\n",
    "#librosa.display.specshow(spectral_center, y_axis='log', x_axis='time')\n",
    "#plt.show()\n",
    "\n",
    "chroma = librosa.feature.chroma_stft(y=y, sr=sr, hop_length=hop_length)\n",
    "print(chroma.shape)\n",
    "plt.title('Chroma')\n",
    "librosa.display.specshow(chroma, y_axis='chroma', x_axis='time')\n",
    "plt.colorbar()\n",
    "plt.show()\n",
    "\n",
    "tempo = librosa.feature.tempogram(y=y, sr=sr, win_length=192)\n",
    "print(tempo.shape)\n",
    "plt.title('Tempo')\n",
    "librosa.display.specshow(tempo, y_axis='tempo', x_axis='time')\n",
    "plt.colorbar()\n",
    "plt.show()\n",
    "\n",
    "#tonnetz = librosa.feature.tonnetz(y=librosa.effects.harmonic(y), sr=sr)\n",
    "#print(tonnetz.shape)\n",
    "#plt.title('Tonnetz')\n",
    "#librosa.display.specshow(tonnetz, y_axis='tonnetz', x_axis='time')\n",
    "#plt.show()\n",
    "\n",
    "zcr = librosa.feature.zero_crossing_rate(y=y, hop_length=hop_length)\n",
    "print(zcr.shape)\n",
    "plt.title('Zero Crossing Rate')\n",
    "librosa.display.specshow(zcr, x_axis='time')\n",
    "plt.colorbar()\n",
    "plt.show()\n",
    "\n",
    "print(librosa.feature.mfcc(y=y, sr=sr).shape)\n",
    "print(librosa.feature.spectral_centroid(y=y, sr=sr).shape)\n",
    "print(librosa.feature.spectral_rolloff(y=y, sr=sr).shape)"
   ]
  },
  {
   "cell_type": "code",
   "execution_count": 7,
   "metadata": {
    "collapsed": true
   },
   "outputs": [],
   "source": [
    "import os\n",
    "import glob\n",
    "import sys\n",
    "import numpy as np\n",
    "import scipy\n",
    "import scipy.io.wavfile\n",
    "import librosa\n",
    "import math\n",
    "\n",
    "def create_npy(fn, data_size, hop_length, num_splits):\n",
    "    \"\"\"\n",
    "        Creates the MFCC features. \n",
    "    \"\"\"    \n",
    "    sr, y = scipy.io.wavfile.read(fn)\n",
    "    y.resize(data_size)\n",
    "    data_length = math.floor(data_size / hop_length)\n",
    "    \n",
    "    n_mfcc = 20\n",
    "    n_mels = 64\n",
    "    split_size = math.floor(data_length / num_splits)\n",
    "    adjusted_data_length = num_splits*split_size\n",
    "    \n",
    "    data = np.zeros((adjusted_data_length, n_mfcc+14), dtype=np.float64)\n",
    "        \n",
    "    #mel = librosa.feature.melspectrogram(y=y, sr=sr, n_mels=64)\n",
    "    chroma = librosa.feature.chroma_stft(y=y, sr=sr, hop_length=hop_length)\n",
    "    #tempo = librosa.feature.tempogram(y=y, sr=sr, win_length=192)\n",
    "    zcr = librosa.feature.zero_crossing_rate(y=y, hop_length=hop_length)\n",
    "    mfcc = librosa.feature.mfcc(y=y, sr=sr, n_mfcc=n_mfcc, hop_length=hop_length)\n",
    "    sp_centroid = librosa.feature.spectral_centroid(y=y, sr=sr, hop_length=hop_length)\n",
    "    sp_rolloff = librosa.feature.spectral_rolloff(y=y, sr=sr, hop_length=hop_length)\n",
    "    \n",
    "    \n",
    "    #mel = librosa.power_to_db(mel,ref=np.max)\n",
    "    \n",
    "    data[:, 0:n_mfcc] = mfcc.T[0:adjusted_data_length, :]\n",
    "    data[:, n_mfcc:n_mfcc+12] = chroma.T[0:adjusted_data_length, :]\n",
    "    data[:, n_mfcc+12:n_mfcc+13] = zcr.T[0:adjusted_data_length, :]\n",
    "    data[:, n_mfcc+12:n_mfcc+13] = sp_centroid.T[0:adjusted_data_length, :]\n",
    "    data[:, n_mfcc+13:n_mfcc+14] = sp_rolloff.T[0:adjusted_data_length, :]\n",
    "    #data[:, n_mfcc+14:n_mfcc+n_mels+14] = mel.T[0:adjusted_data_length, :]\n",
    "    #data[:, 91:283] = tempo.T[0:data_length, :]\n",
    "\n",
    "    \n",
    "\n",
    "\n",
    "    base_fn, ext = os.path.splitext(fn)\n",
    "    for i in range(1, num_splits+1):\n",
    "        np.save(base_fn + ('-%d' % i) + ext, data[(i-1)*split_size:i*split_size, :])\n",
    "\n",
    "    \n",
    "\n",
    "\n",
    "def read_npy(train_fraction, songs_per_class, genre_list=GENRE_LIST, base_dir=GENRE_DIR):\n",
    "    \"\"\"\n",
    "        Reads the MFCC features from disk and\n",
    "        returns them in a numpy array.\n",
    "    \"\"\"\n",
    "    X = []\n",
    "    y = []\n",
    "    X_test = []\n",
    "    y_test = []\n",
    "    num_songs = songs_per_class*train_fraction\n",
    "    for label, genre in enumerate(genre_list):\n",
    "        i = 0\n",
    "        for fn in glob.glob(os.path.join(base_dir, genre, \"*.npy\")):\n",
    "            npy = np.load(fn)\n",
    "            \n",
    "            if(i >= songs_per_class):\n",
    "                break\n",
    "\n",
    "            if(i < num_songs):\n",
    "                X.append(npy)\n",
    "                y.append(label)\n",
    "            else:\n",
    "                X_test.append(npy)\n",
    "                y_test.append(label)  \n",
    "            \n",
    "            i += 1\n",
    "\n",
    "    return np.array(X), np.array(y), np.array(X_test), np.array(y_test)"
   ]
  },
  {
   "cell_type": "code",
   "execution_count": 9,
   "metadata": {},
   "outputs": [
    {
     "name": "stdout",
     "output_type": "stream",
     "text": [
      "Working with these genres -->  ['country', 'classical', 'pop', 'reggae', 'hiphop', 'disco', 'rock', 'blues', 'metal', 'jazz']\n",
      "Starting npy generation\n",
      "Converting E:/EE379K/genres\n",
      "Converting E:/EE379K/genres\\blues\n",
      "Converting E:/EE379K/genres\\classical\n",
      "Converting E:/EE379K/genres\\country\n",
      "Converting E:/EE379K/genres\\disco\n",
      "Converting E:/EE379K/genres\\hiphop\n",
      "Converting E:/EE379K/genres\\jazz\n",
      "Converting E:/EE379K/genres\\metal\n",
      "Converting E:/EE379K/genres\\pop\n",
      "Converting E:/EE379K/genres\\reggae\n",
      "Converting E:/EE379K/genres\\rock\n",
      "Total npy generation and feature writing time (s) =  410.2995075007654\n"
     ]
    }
   ],
   "source": [
    "song_length=661500\n",
    "hop_length = 512\n",
    "num_splits=6\n",
    "\n",
    "start = timeit.default_timer()\n",
    "for subdir, dirs, files in os.walk(GENRE_DIR):\n",
    "    traverse = list(set(dirs).intersection( set(GENRE_LIST) ))\n",
    "    break\n",
    "print(\"Working with these genres --> \", traverse)\n",
    "print(\"Starting npy generation\") \n",
    "for subdir, dirs, files in os.walk(GENRE_DIR):\n",
    "    print(\"Converting \" + subdir)\n",
    "    for file in files:\n",
    "        path = subdir+'/'+file\n",
    "        if path.endswith(\"wav\"):\n",
    "            tmp = subdir[subdir.rfind('\\\\',0)+1:]\n",
    "            if tmp in traverse:\n",
    "                create_npy(path, song_length, hop_length, num_splits)\n",
    "\n",
    "stop = timeit.default_timer()\n",
    "print(\"Total npy generation and feature writing time (s) = \", (stop - start))"
   ]
  },
  {
   "cell_type": "code",
   "execution_count": 8,
   "metadata": {
    "collapsed": true
   },
   "outputs": [],
   "source": [
    "songs_per_class=600\n",
    "train_fraction = 0.9"
   ]
  },
  {
   "cell_type": "code",
   "execution_count": 9,
   "metadata": {},
   "outputs": [
    {
     "name": "stdout",
     "output_type": "stream",
     "text": [
      "(5400, 215, 34)\n",
      "(5400,)\n",
      "(600, 215, 34)\n",
      "(600,)\n"
     ]
    }
   ],
   "source": [
    "X, y, X_test, y_test = read_npy(train_fraction, songs_per_class)\n",
    "print(X.shape)\n",
    "print(y.shape)\n",
    "print(X_test.shape)\n",
    "print(y_test.shape)"
   ]
  },
  {
   "cell_type": "code",
   "execution_count": 13,
   "metadata": {},
   "outputs": [
    {
     "name": "stdout",
     "output_type": "stream",
     "text": [
      "(5400, 7310)\n",
      "(600, 7310)\n"
     ]
    }
   ],
   "source": [
    "import xgboost as xgb\n",
    "from xgboost.sklearn import XGBClassifier\n",
    "X_flat =X.reshape(X.shape[0], (X.shape[1]*X.shape[2]))\n",
    "X_test_flat =X_test.reshape(X_test.shape[0], (X_test.shape[1]*X_test.shape[2]))\n",
    "print (X_flat.shape)\n",
    "print (X_test_flat.shape)"
   ]
  },
  {
   "cell_type": "code",
   "execution_count": 13,
   "metadata": {},
   "outputs": [
    {
     "name": "stdout",
     "output_type": "stream",
     "text": [
      "422.32665249853744\n",
      "441.4758916952388\n",
      "time spend: 19.14923919670133\n"
     ]
    }
   ],
   "source": [
    "start = timeit.default_timer()\n",
    "print (start)\n",
    "\n",
    "\n",
    "dtrain=xgb.DMatrix(X_flat, y)\n",
    "param = {'objective ': \"reg:logistic\",\n",
    "        'max_depth':9}\n",
    "num_round = 20\n",
    "bst = xgb.train(param, dtrain, num_round)\n",
    "\n",
    "\n",
    "stop = timeit.default_timer()\n",
    "print (stop)\n",
    "print (\"time spend:\", (stop - start))"
   ]
  },
  {
   "cell_type": "code",
   "execution_count": 14,
   "metadata": {
    "collapsed": true
   },
   "outputs": [],
   "source": [
    "dtest=xgb.DMatrix(X_test_flat)\n",
    "y_pred = bst.predict(dtest)"
   ]
  },
  {
   "cell_type": "code",
   "execution_count": 15,
   "metadata": {},
   "outputs": [
    {
     "name": "stdout",
     "output_type": "stream",
     "text": [
      "0.173220035446\n"
     ]
    }
   ],
   "source": [
    "from sklearn.metrics import r2_score\n",
    "R2s_xgb = r2_score(y_test, y_pred)\n",
    "print (R2s_xgb)"
   ]
  },
  {
   "cell_type": "code",
   "execution_count": null,
   "metadata": {
    "collapsed": true
   },
   "outputs": [],
   "source": []
  },
  {
   "cell_type": "code",
   "execution_count": 16,
   "metadata": {},
   "outputs": [
    {
     "name": "stdout",
     "output_type": "stream",
     "text": [
      "2017-05-03 04:18:59.917540\n",
      "XGBClassifier(base_score=0.5, colsample_bylevel=1, colsample_bytree=1,\n",
      "       gamma=0, learning_rate=0.1, max_delta_step=0, max_depth=3,\n",
      "       min_child_weight=1, missing=None, n_estimators=100, nthread=-1,\n",
      "       objective='multi:softprob', reg_alpha=0, reg_lambda=1,\n",
      "       scale_pos_weight=1, seed=0, silent=True, subsample=1)\n",
      "2017-05-03 04:23:37.708176\n",
      "0:04:37.790636\n"
     ]
    }
   ],
   "source": [
    "start = datetime.datetime.now()\n",
    "print (start)\n",
    "\n",
    "model = xgb.XGBClassifier()\n",
    "model.fit(X_flat, y)\n",
    "print(model)\n",
    "\n",
    "end = datetime.datetime.now()\n",
    "print (end)\n",
    "print (end - start)"
   ]
  },
  {
   "cell_type": "code",
   "execution_count": 17,
   "metadata": {},
   "outputs": [
    {
     "name": "stdout",
     "output_type": "stream",
     "text": [
      "Accuracy: 46.00%\n"
     ]
    }
   ],
   "source": [
    "y_pred = model.predict(X_test_flat)\n",
    "accuracy = accuracy_score(y_test, y_pred)\n",
    "print(\"Accuracy: %.2f%%\" % (accuracy * 100.0))"
   ]
  },
  {
   "cell_type": "code",
   "execution_count": 10,
   "metadata": {
    "collapsed": true
   },
   "outputs": [],
   "source": [
    "from sklearn.model_selection import learning_curve"
   ]
  },
  {
   "cell_type": "code",
   "execution_count": 14,
   "metadata": {},
   "outputs": [
    {
     "name": "stdout",
     "output_type": "stream",
     "text": [
      "2017-05-03 09:02:44.826349\n",
      "2017-05-03 09:23:55.093634\n",
      "0:21:10.267285\n"
     ]
    }
   ],
   "source": [
    "import xgboost as xgb\n",
    "\n",
    "start = datetime.datetime.now()\n",
    "print (start)\n",
    "\n",
    "\n",
    "from sklearn.model_selection import StratifiedKFold\n",
    "estimator = xgb.XGBClassifier()\n",
    "train_sizes, train_scores, valid_scores = learning_curve(xgb.XGBClassifier(), X_flat, y,cv = None, n_jobs=2)\n",
    "\n",
    "end = datetime.datetime.now()\n",
    "print (end)\n",
    "print (end - start)"
   ]
  },
  {
   "cell_type": "code",
   "execution_count": 25,
   "metadata": {},
   "outputs": [
    {
     "data": {
      "text/plain": [
       "<matplotlib.legend.Legend at 0x11d9dfdcf98>"
      ]
     },
     "execution_count": 25,
     "metadata": {},
     "output_type": "execute_result"
    },
    {
     "data": {
      "image/png": "[encoded data removed]",
      "text/plain": [
       "<matplotlib.figure.Figure at 0x11d9df73048>"
      ]
     },
     "metadata": {},
     "output_type": "display_data"
    }
   ],
   "source": [
    "train_scores_mean = np.mean(train_scores, axis=1)\n",
    "train_scores_std = np.std(train_scores, axis=1)\n",
    "valid_scores_mean = np.mean(valid_scores, axis=1)\n",
    "valid_scores_std = np.std(valid_scores, axis=1)\n",
    "plt.grid()\n",
    "\n",
    "plt.fill_between(train_sizes, train_scores_mean - train_scores_std,\n",
    "                     train_scores_mean + train_scores_std, alpha=0.1,\n",
    "                     color=\"r\")\n",
    "plt.fill_between(train_sizes, valid_scores_mean - valid_scores_std,\n",
    "                     valid_scores_mean + valid_scores_std, alpha=0.1, color=\"g\")\n",
    "plt.plot(train_sizes, train_scores_mean, 'o-', color=\"r\",\n",
    "             label=\"Training score\")\n",
    "plt.plot(train_sizes, valid_scores_mean, 'o-', color=\"g\",\n",
    "             label=\"Cross-validation score\")\n",
    "\n",
    "plt.legend(loc=\"best\")"
   ]
  },
  {
   "cell_type": "code",
   "execution_count": 20,
   "metadata": {},
   "outputs": [
    {
     "data": {
      "text/plain": [
       "array([ 360, 1170, 1980, 2790, 3600])"
      ]
     },
     "execution_count": 20,
     "metadata": {},
     "output_type": "execute_result"
    }
   ],
   "source": []
  },
  {
   "cell_type": "code",
   "execution_count": null,
   "metadata": {
    "collapsed": true
   },
   "outputs": [],
   "source": []
  }
 ],
 "metadata": {
  "anaconda-cloud": {},
  "kernelspec": {
   "display_name": "Python [conda root]",
   "language": "python",
   "name": "conda-root-py"
  },
  "language_info": {
   "codemirror_mode": {
    "name": "ipython",
    "version": 3
   },
   "file_extension": ".py",
   "mimetype": "text/x-python",
   "name": "python",
   "nbconvert_exporter": "python",
   "pygments_lexer": "ipython3",
   "version": "3.5.3"
  }
 },
 "nbformat": 4,
 "nbformat_minor": 1
}
