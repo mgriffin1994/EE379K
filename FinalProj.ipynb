{
 "cells": [
  {
   "cell_type": "code",
   "execution_count": 1,
   "metadata": {
    "collapsed": true
   },
   "outputs": [],
   "source": [
    "import os\n",
    "import sys\n",
    "import timeit\n",
    "import numpy as np\n",
    "from pydub import AudioSegment\n",
    "import pydub\n",
    "from matplotlib import pylab\n"
   ]
  },
  {
   "cell_type": "code",
   "execution_count": 2,
   "metadata": {
    "collapsed": true
   },
   "outputs": [],
   "source": [
    "#GENRE_DIR = \"/home/mike/Desktop/EE379K/FinalProject/genres\"\n",
    "GENRE_DIR = \"C:/Users/Mike/Documents/EE379K/FinalProject/EE379K/genres\"\n",
    "GENRE_LIST = (\"blues\", \"classical\", \"country\", \"disco\", \"hiphop\", \"jazz\", \"metal\", \"pop\", \"reggae\", \"rock\")"
   ]
  },
  {
   "cell_type": "code",
   "execution_count": 7,
   "metadata": {
    "collapsed": false,
    "scrolled": false
   },
   "outputs": [
    {
     "name": "stdout",
     "output_type": "stream",
     "text": [
      "Converting au to wav /home/mike/Desktop/EE379K/FinalProject/genres\n",
      "Converting au to wav /home/mike/Desktop/EE379K/FinalProject/genres/rock\n",
      "Converting au to wav /home/mike/Desktop/EE379K/FinalProject/genres/hiphop\n",
      "Converting au to wav /home/mike/Desktop/EE379K/FinalProject/genres/pop\n",
      "Converting au to wav /home/mike/Desktop/EE379K/FinalProject/genres/disco\n",
      "Converting au to wav /home/mike/Desktop/EE379K/FinalProject/genres/country\n",
      "Converting au to wav /home/mike/Desktop/EE379K/FinalProject/genres/jazz\n",
      "Converting au to wav /home/mike/Desktop/EE379K/FinalProject/genres/metal\n",
      "Converting au to wav /home/mike/Desktop/EE379K/FinalProject/genres/reggae\n",
      "Converting au to wav /home/mike/Desktop/EE379K/FinalProject/genres/classical\n",
      "Converting au to wav /home/mike/Desktop/EE379K/FinalProject/genres/blues\n",
      "('Conversion time = ', 0.0446619987487793)\n"
     ]
    }
   ],
   "source": [
    "def convert_dataset_to_wav():\n",
    "    \"\"\"\n",
    "        Converts all files of the GTZAN dataset\n",
    "        to the WAV (uncompressed) format.\n",
    "    \"\"\"\n",
    "    start = timeit.default_timer()\n",
    "\n",
    "    for subdir, dirs, files in os.walk(GENRE_DIR):\n",
    "        print(\"Converting au to wav \" + subdir)\n",
    "        for file in files:\n",
    "            path = subdir+'/'+file\n",
    "            \n",
    "            if path.endswith(\"au\"):\n",
    "                song = AudioSegment.from_file(path,\"au\")\n",
    "                song = song[:30000]\n",
    "                song.export(path[:-3]+\".wav\",format='wav')\n",
    "\n",
    "    stop = timeit.default_timer()\n",
    "    print (\"Conversion time = \", (stop - start))\n",
    "    \n",
    "convert_dataset_to_wav()"
   ]
  },
  {
   "cell_type": "code",
   "execution_count": 6,
   "metadata": {
    "collapsed": true
   },
   "outputs": [],
   "source": [
    "for subdir, dirs, files in os.walk(GENRE_DIR):\n",
    "        for file in files:\n",
    "            path = subdir+'/'+file\n",
    "            if path.endswith(\"wav\"):\n",
    "                os.remove(path)"
   ]
  },
  {
   "cell_type": "code",
   "execution_count": 4,
   "metadata": {
    "collapsed": true,
    "scrolled": false
   },
   "outputs": [],
   "source": [
    "import os\n",
    "import glob\n",
    "import sys\n",
    "import numpy as np\n",
    "import scipy\n",
    "import scipy.io.wavfile\n",
    "\n",
    "def create_npy(fn):\n",
    "    \"\"\"\n",
    "        Creates the MFCC features. \n",
    "    \"\"\"    \n",
    "    sample_rate, X = scipy.io.wavfile.read(fn)\n",
    "    #X[X==0] = 1\n",
    "    base_fn, ext = os.path.splitext(fn)\n",
    "    #print(base_fn + ext)\n",
    "    np.save(base_fn + ext, X)\n",
    "\n",
    "\n",
    "def read_npy(train_fraction, data_size=100000, songs_per_class=100, genre_list=GENRE_LIST, base_dir=GENRE_DIR):\n",
    "    \"\"\"\n",
    "        Reads the MFCC features from disk and\n",
    "        returns them in a numpy array.\n",
    "    \"\"\"\n",
    "    X = []\n",
    "    y = []\n",
    "    X_test = []\n",
    "    y_test = []\n",
    "    num_songs = songs_per_class*train_fraction\n",
    "    for label, genre in enumerate(genre_list):\n",
    "        i = 0\n",
    "        for fn in glob.glob(os.path.join(base_dir, genre, \"*.npy\")):\n",
    "            npy = np.load(fn)\n",
    "            npy.resize(data_size)\n",
    "            if(i >= songs_per_class):\n",
    "                break\n",
    "\n",
    "            if(i < num_songs):\n",
    "                X.append(npy)\n",
    "                y.append(label)\n",
    "            else:\n",
    "                X_test.append(npy)\n",
    "                y_test.append(label)  \n",
    "            \n",
    "            i += 1\n",
    "\n",
    "    return np.array(X), np.array(y), np.array(X_test), np.array(y_test)\n",
    "\n"
   ]
  },
  {
   "cell_type": "code",
   "execution_count": 36,
   "metadata": {
    "collapsed": false
   },
   "outputs": [
    {
     "name": "stdout",
     "output_type": "stream",
     "text": [
      "('Working with these genres --> ', ['reggae', 'classical', 'country', 'jazz', 'metal', 'pop', 'disco', 'hiphop', 'rock', 'blues'])\n",
      "Starting npy generation\n",
      "Converting /home/mike/Desktop/EE379K/FinalProject/genres\n",
      "Converting /home/mike/Desktop/EE379K/FinalProject/genres/rock\n",
      "Converting /home/mike/Desktop/EE379K/FinalProject/genres/hiphop\n",
      "Converting /home/mike/Desktop/EE379K/FinalProject/genres/pop\n",
      "Converting /home/mike/Desktop/EE379K/FinalProject/genres/disco\n",
      "Converting /home/mike/Desktop/EE379K/FinalProject/genres/country\n",
      "Converting /home/mike/Desktop/EE379K/FinalProject/genres/jazz\n",
      "Converting /home/mike/Desktop/EE379K/FinalProject/genres/metal\n",
      "Converting /home/mike/Desktop/EE379K/FinalProject/genres/reggae\n",
      "Converting /home/mike/Desktop/EE379K/FinalProject/genres/classical\n",
      "Converting /home/mike/Desktop/EE379K/FinalProject/genres/blues\n",
      "('Total npy generation and feature writing time (s) = ', 27.151424884796143)\n"
     ]
    }
   ],
   "source": [
    "start = timeit.default_timer()\n",
    "for subdir, dirs, files in os.walk(GENRE_DIR):\n",
    "    traverse = list(set(dirs).intersection( set(GENRE_LIST) ))\n",
    "    break\n",
    "print(\"Working with these genres --> \", traverse)\n",
    "print(\"Starting npy generation\") \n",
    "for subdir, dirs, files in os.walk(GENRE_DIR):\n",
    "    print(\"Converting \" + subdir)\n",
    "    for file in files:\n",
    "        path = subdir+'/'+file\n",
    "        if path.endswith(\"wav\"):\n",
    "            tmp = subdir[subdir.rfind('/',0)+1:]\n",
    "            if tmp in traverse:\n",
    "                create_npy(path)\n",
    "\n",
    "stop = timeit.default_timer()\n",
    "print(\"Total npy generation and feature writing time (s) = \", (stop - start))"
   ]
  },
  {
   "cell_type": "code",
   "execution_count": null,
   "metadata": {
    "collapsed": true
   },
   "outputs": [],
   "source": [
    "song_length=100000\n",
    "songs_per_class=100\n",
    "train_fraction = 0.9"
   ]
  },
  {
   "cell_type": "code",
   "execution_count": 5,
   "metadata": {
    "collapsed": false
   },
   "outputs": [
    {
     "name": "stdout",
     "output_type": "stream",
     "text": [
      "(180, 100000)\n",
      "(180,)\n",
      "(20, 100000)\n",
      "(20,)\n"
     ]
    }
   ],
   "source": [
    "X, y, X_test, y_test = read_npy(train_fraction, song_length, songs_per_class, genre_list=('rock', 'classical'))\n",
    "print(X.shape)\n",
    "print(y.shape)\n",
    "print(X_test.shape)\n",
    "print(y_test.shape)\n",
    "\n"
   ]
  },
  {
   "cell_type": "code",
   "execution_count": 6,
   "metadata": {
    "collapsed": false
   },
   "outputs": [
    {
     "name": "stderr",
     "output_type": "stream",
     "text": [
      "Using TensorFlow backend.\n"
     ]
    },
    {
     "name": "stdout",
     "output_type": "stream",
     "text": [
      "(180, 2)\n"
     ]
    }
   ],
   "source": [
    "from keras.utils.np_utils import to_categorical\n",
    "import tensorflow\n",
    "\n",
    "y = to_categorical(y, nb_classes=None)\n",
    "y_test = to_categorical(y, nb_classes=None)\n",
    "print(y.shape)"
   ]
  },
  {
   "cell_type": "code",
   "execution_count": 7,
   "metadata": {
    "collapsed": false
   },
   "outputs": [
    {
     "name": "stdout",
     "output_type": "stream",
     "text": [
      "(180, 100000, 1)\n",
      "(20, 100000, 1)\n"
     ]
    }
   ],
   "source": [
    "X = X.reshape((X.shape[0], X.shape[1], 1))\n",
    "X_test = X_test.reshape((X_test.shape[0], X_test.shape[1], 1))\n",
    "print(X.shape)\n",
    "print(X_test.shape)"
   ]
  },
  {
   "cell_type": "code",
   "execution_count": null,
   "metadata": {
    "collapsed": false,
    "scrolled": true
   },
   "outputs": [
    {
     "name": "stdout",
     "output_type": "stream",
     "text": [
      "____________________________________________________________________________________________________\n",
      "Layer (type)                     Output Shape          Param #     Connected to                     \n",
      "====================================================================================================\n",
      "lstm_2 (LSTM)                    (None, 10)            480         lstm_input_2[0][0]               \n",
      "____________________________________________________________________________________________________\n",
      "dense_2 (Dense)                  (None, 2)             22          lstm_2[0][0]                     \n",
      "====================================================================================================\n",
      "Total params: 502\n",
      "Trainable params: 502\n",
      "Non-trainable params: 0\n",
      "____________________________________________________________________________________________________\n",
      "None\n",
      "Epoch 1/3\n",
      " 24/180 [===>..........................] - ETA: 15052s - loss: 0.6790 - acc: 0.5000    \b\b\b\b\b\b\b\b\b\b\b\b\b\b\b\b\b\b\b\b\b\b\b\b\b\b\b\b\b\b\b\b\b\b\b\b\b\b\b\b\b\b\b\b\b\b\b\b\b\b\b\b\b\b\b\b\b\b\b\b\b\b\b\b\b\b\b\b\b\b\b\b\b\b\b\b\b\b\b\b\b\b\b\b\b\b\b\b\b\b\b\b\b\b\b\b\b\b\b\b\b\b\b\b\b\b\b\b\b\b\b\b\b\b\b\b\b\b\b\b\b\b\b\b\b\b\b\b\b\b\b\b\b\b\b\b\b\b\b\b\b\b\b\b\b\b\b\b\b\b\b\b\b\b\b\b\b\b\b\b\b\b\b\b\b\b\b\b\b\b\b\b\b\b\b\b\b\b\b\b\b\b\b\b\b\b\b\b\b\b\b\b\b\b\b\b\b\b\b\b\b\b\b\b\b\b\b\b\b\b\b\b\b\b\b\b\b\b\b\b\b\b\b\b\b\b\b\b\b\b\b\b\b\b\b\b\b\b\b\b\b\b\b\b\b\b\b\b\b\b\b\b\b\b\b\b\b\b\b\b\b\b\b\b\b\b\b\b\b\b\b\b\b\b\b\b\b\b\b\b\b\b\b\b\b\b\b\b\b\b\b\b\b\b\b\b\b\b\b\b\b\b\b\b\b\b\b\b\b\b\b\b\b\b\b\b\b\b\b\b\b\b\b\b\b\b\b\b\b\b\b\b\b\b\b\b\b\b\b\b\b\b\b\b\b\b\b\b\b\b\b\b\b\b\b\b\b\b\b\b\b\b\b\b\b\b\b\b\b\b\b\b\b\b\b\b\b\b\b\b\b\b\b\b\b\b\b\b\b\b\b\b\b\b\b\b\b\b\b\b\b\b\b\b\b\b\b\b\b\b\b\b\b\b\b\b\b\b\b\b\b\b\b\b\b\b\b\b\b\b\b\b\b\b\b\b\b\b\b\b\b\b\b\b\b\b\b\b\b\b\b\b\b\b\b\b\b\b\b\b\b\b\b\b\b\b\b\b\b\b\b\b\b\b\b\b\b\b\b\b\b\b\b\b\b\b\b\b\b\b\b\b\b\b\b\b\b\b\b\b\b\b\b\b\b\b\b\b\b\b\b\b\b\b\b\b\b\b\b\b\b\b\b\b\b\b\b\b\b\b\b\b\b\b\b\b\b\b\b\b\b\b\b\b\b\b\b\b\b\b\b\b\b\b\b\b\b\b\b\b\b\b\b\b\b\b\b\b\b\b\b\b\b\b\b\b\b\b\b\b\b\b\b\b\b\b\b\b\b\b\b\b\b\b\b\b\b\b\b\b\b\b\b\b\b\b\b\b\b\b\b\b\b\b\b\b\b\b\b\b\b\b\b\b\b\b\b\b\b\b\b\b\b\b\b\b\b\b\b\b\b\b\b\b\b\b\b\b\b\b\b\b\b\b\b\b\b\b\b\b\b\b\b\b\b\b\b\b\b\b\b\b\b\b\b\b\b\b\b\b\b\b\b\b\b\b\b\b\b\b\b\b\b\b\b\b\b\b\b\b\b\b\b\b\b\b\b\b\b\b\b\b\b\b\b\b\b\b\b\b\b\b\b\b\b\b\b\b\b\b\b\b\b\b\b\b\b\b\b\b\b\b\b\b\b\b\b\b\b\b\b\b\b\b\b\b\b\b\b\b\b\b\b\b\b\b\b\b\b\b\b\b\b\b\b\b\b\b\b\b\b\b\b\b\b\b\b\b\b\b\b\b\b\b\b\b\b\b\b\b\b\b\b\b\b\b\b\b\b\b\b\b\b\b\b\b\b\b\b\b\b\b\b\b\b\b\b\b\b\b\b\b\b\b\b\b\b\b\b\b\b\b\b\b\b\b\b\b\b\b\b\b\b\b\b\b\b\b\b\b\b\b\b\b\b\b\b\b\b\b\b\b\b\b\b\b\b\b\b\b\b\b\b\b\b\b\b\b\b\b\b\b\b\b\b\b\b\b\b\b\b\b\b\b\b\b\b\b\b\b\b\b\b\b\b\b\b\b\b\b\b\b\b\b\b\b\b\b\b\b\b\b\b\b\b\b\b\b\b\b\b\b\b\b\b\b\b\b\b\b\b\b\b\b\b\b\b\b\b\b\b\b\b\b\b\b\b\b\b\b\b\b\b\b\b\b\b\b\b\b\b\b\b\b\b\b\b\b\b\b\b\b\b\b\b\b\b\b\b\b\b\b\b\b\b\b\b\b\b\b\b\b\b\b\b\b\b\b\b\b\b\b\b\b\b\b\b\b\b\b\b\b\b\b\b\b\b\b\b\b\b\b\b\b\b\b\b\b\b\b\b\b\b\b\b\b\b\b\b\b\b\b\b\b\b\b\b\b\b\b\b\b\b\b\b\b\b\b\b\b\b\b\b\b\b\b\b\b\b\b\b\b\b\b\b\b\b\b\b\b\b\b\b\b\b\b\b\b\b\b\b\b\b\b\b\b\b\b\b\b\b\b\b\b\b\b\b\b\b\b\b\b\b\b\b\b\b\b\b\b\b\b\b\b\b\b\b\b\b\b\b\b\b\b\b\b\b\b\b\b\b\b\b\b\b\b\b\b\b\b\b\b\b\b\b\b\b\b\b\b\b\b\b\b\b\b\b\b\b\b\b\b\b\b\b\b\b\b\b\b\b\b\b\b\b\b\b\b\b\b\b\b\b\b\b\b\b\b\b\b\b\b\b\b\b\b\b\b\b\b\b\b\b\b\b\b\b\b\b\b\b\b\b\b\b\b\b\b\b\b\b\b\b\b\b\b\b\b\b\b\b\b\b\b\b\b\b\b\b\b\b\b\b\b\b\b\b\b\b\b\b\b\b\b\b\b\b\b\b\b\b\b\b\b\b\b\b\b\b\b\b\b\b\b\b\b\b\b\b\b\b\b\b\b\b\b\b\b\b\b\b\b\b\b\b\b\b\b\b\b\b\b\b\b\b\b\b\b\b\b\b\b\b\b\b\b\b\b\b\b\b\b\b\b\b\b\b\b\b\b\b\b\b\b\b\b\b\b\b\b\b\b\b\b\b\b\b\b\b\b\b\b\b\b\b\b\b\b\b\b\b\b\b\b\b\b\b\b\b\b\b\b\b\b\b\b\b\b\b\b\b\b\b\b\b\b\b\b\b\b\b\b\b\b\b\b\b\b\b\b\b\b\b\b\b\b\b\b\b\b\b\b\b\b\b\b\b\b\b\b\b\b\b\b\b\b\b\b\b\b\b\b\b\b\b\b\b\b\b\b\b\b\b\b\b\b\b\b\b\b\b\b\b\b\b\b\b\b\b\b\b\b\b\b\b\b\b\b\b\b\b\b\b\b\b\b\b\b\b\b\b\b\b\b\b\b\b\b\b\b\b\b\b\b\b\b\b\b\b\b\b\b\b\b\b\b\b\b\b\b\b\b\b\b\b\b\b\b\b\b\b\b\b\b\b\b\b\b\b\b\b\b\b\b\b\b\b\b\b\b\b\b\b\b\b\b\b\b\b\b\b\b\b\b\b\b\b\b\b\b\b\b\b\b\b\b\b\b\b\b\b\b\b\b\b\b\b\b\b\b\b\b\b\b\b\b\b\b\b\b\b\b\b\b\b\b\b\b\b\b\b\b\b\b\b\b\b\b\b\b\b\b\b\b\b\b\b\b\b\b\b\b\b\b\b\b\b\b\b\b\b\b\b\b\b\b\b\b\b\b\b\b\b\b\b\b\b\b\b\b\b\b\b\b\b\b\b\b\b\b\b\b\b\b\b\b\b\b\b\b\b\b\b\b\b\b\b\b\b\b\b\b\b\b\b\b\b\b\b\b\b\b\b\b\b\b\b\b\b\b\b\b\b\b\b\b\b\b\b\b\b\b\b\b\b\b\b\b\b\b\b\b\b\b\b\b\b\b\b\b\b\b\b\b\b\b\b\b\b\b\b\b\b\b\b\b\b\b\b\b\b\b\b\b\b\b\b\b\b\b\b\b\b\b\b\b\b\b\b\b\b\b\b\b\b\b\b\b\b\b\b\b\b\b\b\b\b\b\b\b\b\b\b\b\b\b\b\b\b\b\b\b\b\b\b\b\b\b\b\b\b\b\b\b\b\b\b\b\b\b\b\b\b\b\b\b\b\b\b\b\b\b\b\b\b\b\b\b\b\b\b\b\b\b\b\b\b\b\b\b\b\b\b\b\b\b\b\b\b\b\b\b\b\b\b\b\b\b\b\b\b\b\b\b\b\b\b\b\b\b\b\b\b"
     ]
    }
   ],
   "source": [
    "from keras.models import Sequential\n",
    "from keras.layers import Dense, LSTM\n",
    "from keras.preprocessing import sequence\n",
    "\n",
    "\n",
    "model = Sequential()\n",
    "model.add(LSTM(10, input_shape=(100000, 1)))\n",
    "model.add(Dense(2, activation='sigmoid'))\n",
    "model.compile(loss='categorical_crossentropy', optimizer='adam', metrics=['accuracy'])\n",
    "print(model.summary())\n",
    "model.fit(X, y, nb_epoch=3, batch_size=1)\n",
    "# Final evaluation of the model\n",
    "scores = model.evaluate(X_test, y_test, verbose=1)\n",
    "print(\"Accuracy: %.2f%%\" % (scores[1]*100))"
   ]
  },
  {
   "cell_type": "code",
   "execution_count": null,
   "metadata": {
    "collapsed": true
   },
   "outputs": [],
   "source": []
  }
 ],
 "metadata": {
  "anaconda-cloud": {},
  "kernelspec": {
   "display_name": "Python 3",
   "language": "python",
   "name": "python3"
  },
  "language_info": {
   "codemirror_mode": {
    "name": "ipython",
    "version": 3
   },
   "file_extension": ".py",
   "mimetype": "text/x-python",
   "name": "python",
   "nbconvert_exporter": "python",
   "pygments_lexer": "ipython3",
   "version": "3.5.3"
  }
 },
 "nbformat": 4,
 "nbformat_minor": 1
}
