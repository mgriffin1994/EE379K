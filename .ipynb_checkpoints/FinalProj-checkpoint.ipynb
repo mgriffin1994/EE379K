{
 "cells": [
  {
   "cell_type": "code",
   "execution_count": 48,
   "metadata": {
    "collapsed": true
   },
   "outputs": [],
   "source": [
    "import os\n",
    "import sys\n",
    "import timeit\n",
    "import numpy as np\n",
    "from pydub import AudioSegment\n",
    "import pydub\n",
    "import matplotlib.pyplot as plt\n",
    "from matplotlib import pylab\n",
    "%matplotlib inline\n"
   ]
  },
  {
   "cell_type": "code",
   "execution_count": 76,
   "metadata": {
    "collapsed": true
   },
   "outputs": [],
   "source": [
    "#GENRE_DIR = \"/home/mike/Desktop/EE379K/FinalProject/genres\"\n",
    "GENRE_DIR = \"C:/Users/Mike/Documents/EE379K/FinalProject/EE379K/genres\"\n",
    "GENRE_LIST = (\"blues\", \"classical\", \"country\", \"disco\", \"hiphop\", \"jazz\", \"metal\", \"pop\", \"reggae\", \"rock\")"
   ]
  },
  {
   "cell_type": "code",
   "execution_count": 13,
   "metadata": {
    "collapsed": false,
    "scrolled": false
   },
   "outputs": [
    {
     "name": "stdout",
     "output_type": "stream",
     "text": [
      "Converting au to wav C:/Users/Mike/Documents/EE379K/FinalProject/EE379K/genres\n",
      "Converting au to wav C:/Users/Mike/Documents/EE379K/FinalProject/EE379K/genres\\blues\n",
      "Converting au to wav C:/Users/Mike/Documents/EE379K/FinalProject/EE379K/genres\\classical\n",
      "Converting au to wav C:/Users/Mike/Documents/EE379K/FinalProject/EE379K/genres\\country\n",
      "Converting au to wav C:/Users/Mike/Documents/EE379K/FinalProject/EE379K/genres\\disco\n",
      "Converting au to wav C:/Users/Mike/Documents/EE379K/FinalProject/EE379K/genres\\hiphop\n",
      "Converting au to wav C:/Users/Mike/Documents/EE379K/FinalProject/EE379K/genres\\jazz\n",
      "Converting au to wav C:/Users/Mike/Documents/EE379K/FinalProject/EE379K/genres\\metal\n",
      "Converting au to wav C:/Users/Mike/Documents/EE379K/FinalProject/EE379K/genres\\pop\n",
      "Converting au to wav C:/Users/Mike/Documents/EE379K/FinalProject/EE379K/genres\\reggae\n",
      "Converting au to wav C:/Users/Mike/Documents/EE379K/FinalProject/EE379K/genres\\rock\n",
      "Conversion time =  42.84584666985517\n"
     ]
    }
   ],
   "source": [
    "def convert_dataset_to_wav():\n",
    "    \"\"\"\n",
    "        Converts all files of the GTZAN dataset\n",
    "        to the WAV (uncompressed) format.\n",
    "    \"\"\"\n",
    "    start = timeit.default_timer()\n",
    "\n",
    "    for subdir, dirs, files in os.walk(GENRE_DIR):\n",
    "        print(\"Converting au to wav \" + subdir)\n",
    "        for file in files:\n",
    "            path = subdir+'/'+file\n",
    "            \n",
    "            if path.endswith(\"au\"):\n",
    "                song = AudioSegment.from_file(path,\"au\")\n",
    "                song = song[:30000]\n",
    "                song.export(path[:-3]+\".wav\",format='wav')\n",
    "\n",
    "    stop = timeit.default_timer()\n",
    "    print (\"Conversion time = \", (stop - start))\n",
    "    \n",
    "convert_dataset_to_wav()"
   ]
  },
  {
   "cell_type": "code",
   "execution_count": 69,
   "metadata": {
    "collapsed": true
   },
   "outputs": [],
   "source": [
    "for subdir, dirs, files in os.walk(GENRE_DIR):\n",
    "        for file in files:\n",
    "            path = subdir+'/'+file\n",
    "            if not path.endswith(\"wav\"):\n",
    "                os.remove(path)"
   ]
  },
  {
   "cell_type": "code",
   "execution_count": 72,
   "metadata": {
    "collapsed": false,
    "scrolled": false
   },
   "outputs": [],
   "source": [
    "import os\n",
    "import glob\n",
    "import sys\n",
    "import numpy as np\n",
    "import scipy\n",
    "import scipy.io.wavfile\n",
    "import librosa\n",
    "import math\n",
    "\n",
    "def create_npy(fn, data_size, hop_length):\n",
    "    \"\"\"\n",
    "        Creates the MFCC features. \n",
    "    \"\"\"    \n",
    "    sr, y = scipy.io.wavfile.read(fn)\n",
    "    y.resize(data_size)\n",
    "    data_length = math.ceil(data_size / hop_length)\n",
    "    \n",
    "    data = np.zeros((data_length, 27), dtype=np.float64)\n",
    "    \n",
    "    mfcc = librosa.feature.mfcc(y=y, sr=sr, hop_length=hop_length, n_mfcc=13)\n",
    "    spectral_center = librosa.feature.spectral_centroid(y=y, sr=sr, hop_length=hop_length)\n",
    "    chroma = librosa.feature.chroma_stft(y=y, sr=sr, hop_length=hop_length)\n",
    "    spectral_roll = librosa.feature.spectral_rolloff(y=y, sr=sr, hop_length=hop_length)\n",
    "\n",
    "    data[:, 0:13] = mfcc.T[0:data_length, :]\n",
    "    data[:, 13:14] = spectral_center.T[0:data_length, :]\n",
    "    data[:, 14:26] = chroma.T[0:data_length, :]\n",
    "    data[:, 26:27] = spectral_roll.T[0:data_length, :]\n",
    "\n",
    "\n",
    "    base_fn, ext = os.path.splitext(fn)\n",
    "    np.save(base_fn + ext, data)\n",
    "\n",
    "\n",
    "def read_npy(train_fraction, songs_per_class, genre_list=GENRE_LIST, base_dir=GENRE_DIR):\n",
    "    \"\"\"\n",
    "        Reads the MFCC features from disk and\n",
    "        returns them in a numpy array.\n",
    "    \"\"\"\n",
    "    X = []\n",
    "    y = []\n",
    "    X_test = []\n",
    "    y_test = []\n",
    "    num_songs = songs_per_class*train_fraction\n",
    "    for label, genre in enumerate(genre_list):\n",
    "        i = 0\n",
    "        for fn in glob.glob(os.path.join(base_dir, genre, \"*.npy\")):\n",
    "            npy = np.load(fn)\n",
    "            \n",
    "            if(i >= songs_per_class):\n",
    "                break\n",
    "\n",
    "            if(i < num_songs):\n",
    "                X.append(npy)\n",
    "                y.append(label)\n",
    "            else:\n",
    "                X_test.append(npy)\n",
    "                y_test.append(label)  \n",
    "            \n",
    "            i += 1\n",
    "\n",
    "    return np.array(X), np.array(y), np.array(X_test), np.array(y_test)\n",
    "\n"
   ]
  },
  {
   "cell_type": "code",
   "execution_count": 66,
   "metadata": {
    "collapsed": false
   },
   "outputs": [
    {
     "name": "stdout",
     "output_type": "stream",
     "text": [
      "(1292, 27)\n",
      "[  8.10072097e+02   9.02549679e+01  -1.02372889e+01   4.85879981e+01\n",
      "   3.02576088e+01   1.85366924e+01  -2.83907220e+00   2.11685176e+01\n",
      "  -8.83725607e+00   2.91481268e+00  -7.73001903e+00   1.50084886e+01\n",
      "  -2.86700359e+00   1.98994147e+03   6.29376682e-01   4.73241486e-01\n",
      "   2.89788220e-01   2.48639103e-01   3.39421173e-01   3.58730190e-01\n",
      "   4.11691781e-01   4.42944817e-01   4.61601567e-01   8.55776917e-01\n",
      "   7.20764672e-01   1.00000000e+00   4.14514160e+03]\n"
     ]
    },
    {
     "data": {
      "image/png": "[encoded data removed]",
      "text/plain": [
       "<matplotlib.figure.Figure at 0x278e4d373c8>"
      ]
     },
     "metadata": {},
     "output_type": "display_data"
    }
   ],
   "source": [
    "from librosa import display\n",
    "\n",
    "create_npy('C:/Users/Mike/Documents/EE379K/FinalProject/EE379K/genres/rock/rock.00000.wav', 661500, 512)\n",
    "npy = np.load('C:/Users/Mike/Documents/EE379K/FinalProject/EE379K/genres/rock/rock.00000.wav.npy')\n",
    "print(npy.shape)\n",
    "print(npy[0])\n",
    "plt.figure(figsize=(12, 8))\n",
    "librosa.display.specshow(npy[:, 14:26], y_axis='log', x_axis='time')\n",
    "plt.colorbar(format='%+2.0f dB')\n",
    "plt.show()"
   ]
  },
  {
   "cell_type": "code",
   "execution_count": 78,
   "metadata": {
    "collapsed": false
   },
   "outputs": [
    {
     "name": "stdout",
     "output_type": "stream",
     "text": [
      "Working with these genres -->  ['blues', 'disco', 'hiphop', 'metal', 'rock', 'pop', 'jazz', 'country', 'reggae', 'classical']\n",
      "Starting npy generation\n",
      "Converting C:/Users/Mike/Documents/EE379K/FinalProject/EE379K/genres\n",
      "Converting C:/Users/Mike/Documents/EE379K/FinalProject/EE379K/genres\\blues\n",
      "Converting C:/Users/Mike/Documents/EE379K/FinalProject/EE379K/genres\\classical\n",
      "Converting C:/Users/Mike/Documents/EE379K/FinalProject/EE379K/genres\\country\n",
      "Converting C:/Users/Mike/Documents/EE379K/FinalProject/EE379K/genres\\disco\n",
      "Converting C:/Users/Mike/Documents/EE379K/FinalProject/EE379K/genres\\hiphop\n",
      "Converting C:/Users/Mike/Documents/EE379K/FinalProject/EE379K/genres\\jazz\n",
      "Converting C:/Users/Mike/Documents/EE379K/FinalProject/EE379K/genres\\metal\n",
      "Converting C:/Users/Mike/Documents/EE379K/FinalProject/EE379K/genres\\pop\n",
      "Converting C:/Users/Mike/Documents/EE379K/FinalProject/EE379K/genres\\reggae\n",
      "Converting C:/Users/Mike/Documents/EE379K/FinalProject/EE379K/genres\\rock\n",
      "Total npy generation and feature writing time (s) =  645.1507484292542\n"
     ]
    }
   ],
   "source": [
    "song_length=661500\n",
    "hop_length = 512\n",
    "\n",
    "start = timeit.default_timer()\n",
    "for subdir, dirs, files in os.walk(GENRE_DIR):\n",
    "    traverse = list(set(dirs).intersection( set(GENRE_LIST) ))\n",
    "    break\n",
    "print(\"Working with these genres --> \", traverse)\n",
    "print(\"Starting npy generation\") \n",
    "for subdir, dirs, files in os.walk(GENRE_DIR):\n",
    "    print(\"Converting \" + subdir)\n",
    "    for file in files:\n",
    "        path = subdir+'/'+file\n",
    "        if path.endswith(\"wav\"):\n",
    "            tmp = subdir[subdir.rfind('\\\\',0)+1:]\n",
    "            if tmp in traverse:\n",
    "                create_npy(path, song_length, hop_length)\n",
    "\n",
    "stop = timeit.default_timer()\n",
    "print(\"Total npy generation and feature writing time (s) = \", (stop - start))"
   ]
  },
  {
   "cell_type": "code",
   "execution_count": 81,
   "metadata": {
    "collapsed": true
   },
   "outputs": [],
   "source": [
    "songs_per_class=100\n",
    "train_fraction = 0.9"
   ]
  },
  {
   "cell_type": "code",
   "execution_count": 93,
   "metadata": {
    "collapsed": false
   },
   "outputs": [
    {
     "name": "stdout",
     "output_type": "stream",
     "text": [
      "(900, 1292, 27)\n",
      "(900,)\n",
      "(100, 1292, 27)\n",
      "(100,)\n"
     ]
    }
   ],
   "source": [
    "X, y, X_test, y_test = read_npy(train_fraction, songs_per_class)\n",
    "print(X.shape)\n",
    "print(y.shape)\n",
    "print(X_test.shape)\n",
    "print(y_test.shape)\n",
    "\n"
   ]
  },
  {
   "cell_type": "code",
   "execution_count": null,
   "metadata": {
    "collapsed": true
   },
   "outputs": [],
   "source": [
    "#randomize data here"
   ]
  },
  {
   "cell_type": "code",
   "execution_count": 94,
   "metadata": {
    "collapsed": false
   },
   "outputs": [
    {
     "name": "stdout",
     "output_type": "stream",
     "text": [
      "(900, 10)\n",
      "(100, 10)\n"
     ]
    }
   ],
   "source": [
    "from keras.utils.np_utils import to_categorical\n",
    "import tensorflow\n",
    "\n",
    "y = to_categorical(y, nb_classes=10)\n",
    "y_test = to_categorical(y_test, nb_classes=10)\n",
    "print(y.shape)\n",
    "print(y_test.shape)"
   ]
  },
  {
   "cell_type": "code",
   "execution_count": null,
   "metadata": {
    "collapsed": false,
    "scrolled": true
   },
   "outputs": [],
   "source": [
    "from keras.models import Sequential\n",
    "from keras.layers import Dense, LSTM\n",
    "from keras.preprocessing import sequence\n",
    "\n",
    "\n",
    "model = Sequential()\n",
    "model.add(LSTM(128, input_shape=(1292, 27), return_sequences=True))\n",
    "model.add(LSTM(64))\n",
    "model.add(Dense(10, activation='softmax'))\n",
    "model.compile(loss='categorical_crossentropy', optimizer='adam', metrics=['accuracy'])\n",
    "print(model.summary())\n",
    "model.fit(X, y, nb_epoch=100, batch_size=128)\n",
    "# Final evaluation of the model\n",
    "scores = model.evaluate(X_test, y_test, verbose=0)\n",
    "print(\"Accuracy: %.2f%%\" % (scores[1]*100))"
   ]
  },
  {
   "cell_type": "code",
   "execution_count": null,
   "metadata": {
    "collapsed": true
   },
   "outputs": [],
   "source": []
  }
 ],
 "metadata": {
  "anaconda-cloud": {},
  "kernelspec": {
   "display_name": "Python 3",
   "language": "python",
   "name": "python3"
  },
  "language_info": {
   "codemirror_mode": {
    "name": "ipython",
    "version": 3
   },
   "file_extension": ".py",
   "mimetype": "text/x-python",
   "name": "python",
   "nbconvert_exporter": "python",
   "pygments_lexer": "ipython3",
   "version": "3.6.0"
  }
 },
 "nbformat": 4,
 "nbformat_minor": 1
}
